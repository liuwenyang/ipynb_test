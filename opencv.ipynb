{
 "cells": [
  {
   "cell_type": "code",
   "execution_count": 25,
   "metadata": {},
   "outputs": [],
   "source": [
    "import cv2\n"
   ]
  },
  {
   "cell_type": "code",
   "execution_count": 26,
   "metadata": {},
   "outputs": [
    {
     "ename": "",
     "evalue": "",
     "output_type": "error",
     "traceback": [
      "\u001b[1;31m在当前单元格或上一个单元格中执行代码时 Kernel 崩溃。\n",
      "\u001b[1;31m请查看单元格中的代码，以确定故障的可能原因。\n",
      "\u001b[1;31m单击<a href='https://aka.ms/vscodeJupyterKernelCrash'>此处</a>了解详细信息。\n",
      "\u001b[1;31m有关更多详细信息，请查看 Jupyter <a href='command:jupyter.viewOutput'>log</a>。"
     ]
    }
   ],
   "source": [
    "# 读取图像\n",
    "image = cv2.imread('1.jpg')\n",
    "# 转换为灰度图像\n",
    "gray_image = cv2.cvtColor(image, cv2.COLOR_BGR2GRAY)\n",
    "# 调整图像大小\n",
    "resized_image = cv2.resize(gray_image, (1000, 1000))\n",
    "# 裁剪图像\n",
    "cropped_image = resized_image[1:500, 0:500]\n",
    "# 在图像上添加文字\n",
    "cv2.putText(resized_image, 'Hello, OpenCV!', (500, 500), cv2.FONT_HERSHEY_SIMPLEX, 2, (0, 0, 0), 2)\n",
    "\n",
    "# 显示图像\n",
    "cv2.imshow('title1', resized_image)\n",
    "# 保存图像\n",
    "cv2.imwrite('output_image.jpg', resized_image)\n",
    "# 等待按键事件，0表示无限期等待\n",
    "cv2.waitKey(0)\n",
    "\n",
    "# 关闭所有OpenCV窗口\n",
    "cv2.destroyAllWindows()"
   ]
  },
  {
   "cell_type": "code",
   "execution_count": null,
   "metadata": {},
   "outputs": [],
   "source": []
  }
 ],
 "metadata": {
  "kernelspec": {
   "display_name": "Python 3",
   "language": "python",
   "name": "python3"
  },
  "language_info": {
   "codemirror_mode": {
    "name": "ipython",
    "version": 3
   },
   "file_extension": ".py",
   "mimetype": "text/x-python",
   "name": "python",
   "nbconvert_exporter": "python",
   "pygments_lexer": "ipython3",
   "version": "3.12.1"
  }
 },
 "nbformat": 4,
 "nbformat_minor": 2
}
