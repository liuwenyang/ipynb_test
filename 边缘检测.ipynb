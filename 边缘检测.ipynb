{
 "cells": [
  {
   "cell_type": "code",
   "execution_count": 3,
   "metadata": {},
   "outputs": [],
   "source": [
    "import cv2\n",
    "\n",
    "# 读取图像\n",
    "image = cv2.imread('1.jpg')\n",
    "\n",
    "# 检查图像是否成功加载\n",
    "if image is None:\n",
    "    print(\"图像加载失败！请检查文件路径和文件名。\")\n",
    "else:\n",
    "    # 转换为灰度图像\n",
    "    gray_image = cv2.cvtColor(image, cv2.COLOR_BGR2GRAY)\n",
    "\n",
    "    # 使用高斯模糊来减少噪声\n",
    "    blurred_image = cv2.GaussianBlur(gray_image, (5, 5), 0)\n",
    "\n",
    "    # 使用Canny算法进行边缘检测\n",
    "    edges = cv2.Canny(blurred_image, 50, 150)\n",
    "    edges_without_blur = cv2.Canny(gray_image, 50, 150)\n",
    "    # 显示原图像和边缘检测结果\n",
    "    cv2.imshow('Original Image', image)\n",
    "    #cv2.imshow('blurred_image', blurred_image)\n",
    "    cv2.imshow('edges_without_blur', edges_without_blur)\n",
    "    cv2.imshow('Edges', edges)\n",
    "\n",
    "    # 等待按键事件，0表示无限期等待\n",
    "    cv2.waitKey(0)\n",
    "\n",
    "    # 关闭所有OpenCV窗口\n",
    "    cv2.destroyAllWindows()\n"
   ]
  }
 ],
 "metadata": {
  "kernelspec": {
   "display_name": "Python 3",
   "language": "python",
   "name": "python3"
  },
  "language_info": {
   "codemirror_mode": {
    "name": "ipython",
    "version": 3
   },
   "file_extension": ".py",
   "mimetype": "text/x-python",
   "name": "python",
   "nbconvert_exporter": "python",
   "pygments_lexer": "ipython3",
   "version": "3.12.1"
  }
 },
 "nbformat": 4,
 "nbformat_minor": 2
}
